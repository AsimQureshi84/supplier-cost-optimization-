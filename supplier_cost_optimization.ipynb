{
 "cells": [
  {
   "cell_type": "markdown",
   "id": "089ffdf3",
   "metadata": {},
   "source": [
    "# Supplier Cost Optimization Analysis\n",
    "This notebook analyzes procurement spend and identifies potential savings opportunities."
   ]
  },
  {
   "cell_type": "markdown",
   "id": "9d37b377",
   "metadata": {},
   "source": [
    "## 1. Import Libraries"
   ]
  },
  {
   "cell_type": "code",
   "execution_count": null,
   "id": "780f2a09",
   "metadata": {},
   "outputs": [],
   "source": [
    "import pandas as pd\n",
    "import numpy as np\n",
    "\n",
    "# For visualizations\n",
    "import matplotlib.pyplot as plt\n",
    "import seaborn as sns\n",
    "sns.set(style='whitegrid')"
   ]
  },
  {
   "cell_type": "markdown",
   "id": "257b4f5f",
   "metadata": {},
   "source": [
    "## 2. Load Data"
   ]
  },
  {
   "cell_type": "code",
   "execution_count": null,
   "id": "1b4d13fb",
   "metadata": {},
   "outputs": [],
   "source": [
    "suppliers = pd.read_csv('data/suppliers.csv')\n",
    "spend = pd.read_csv('data/spend.csv')\n",
    "contracts = pd.read_csv('data/contracts.csv')\n",
    "\n",
    "# Preview data\n",
    "suppliers.head(), spend.head(), contracts.head()"
   ]
  },
  {
   "cell_type": "markdown",
   "id": "7ebf72b8",
   "metadata": {},
   "source": [
    "## 3. Merge Spend with Suppliers"
   ]
  },
  {
   "cell_type": "code",
   "execution_count": null,
   "id": "953be6b9",
   "metadata": {},
   "outputs": [],
   "source": [
    "spend_suppliers = spend.merge(suppliers, on='Supplier_ID', how='left')\n",
    "spend_suppliers.head()"
   ]
  },
  {
   "cell_type": "markdown",
   "id": "41137f73",
   "metadata": {},
   "source": [
    "## 4. Total Spend by Category and Supplier"
   ]
  },
  {
   "cell_type": "code",
   "execution_count": null,
   "id": "131b6589",
   "metadata": {},
   "outputs": [],
   "source": [
    "category_spend = spend_suppliers.groupby('Category')['Amount'].sum().sort_values(ascending=False)\n",
    "category_spend\n",
    "\n",
    "supplier_spend = spend_suppliers.groupby('Supplier_Name')['Amount'].sum().sort_values(ascending=False)\n",
    "supplier_spend"
   ]
  },
  {
   "cell_type": "markdown",
   "id": "d27d754e",
   "metadata": {},
   "source": [
    "## 5. Top 5 Suppliers"
   ]
  },
  {
   "cell_type": "code",
   "execution_count": null,
   "id": "6d8a4b2e",
   "metadata": {},
   "outputs": [],
   "source": [
    "top5_suppliers = supplier_spend.head(5)\n",
    "top5_suppliers"
   ]
  },
  {
   "cell_type": "markdown",
   "id": "075395d5",
   "metadata": {},
   "source": [
    "## 6. Potential Savings by Category (Assuming 12% Savings)"
   ]
  },
  {
   "cell_type": "code",
   "execution_count": null,
   "id": "8334c61e",
   "metadata": {},
   "outputs": [],
   "source": [
    "category_savings = category_spend * 0.12\n",
    "category_savings"
   ]
  },
  {
   "cell_type": "markdown",
   "id": "0433c20a",
   "metadata": {},
   "source": [
    "## 7. Summary Insights"
   ]
  },
  {
   "cell_type": "code",
   "execution_count": null,
   "id": "8bf86db6",
   "metadata": {},
   "outputs": [],
   "source": [
    "print(f'Top 5 suppliers account for {round(top5_suppliers.sum()/spend[\"Amount\"].sum()*100, 2)}% of total spend')\n",
    "print(f'Potential savings if consolidating categories: ~{round(category_savings.sum(), 2)} CAD')"
   ]
  },
  {
   "cell_type": "markdown",
   "id": "1c1d5dac",
   "metadata": {},
   "source": [
    "## 8. Spend Trend Over Time"
   ]
  },
  {
   "cell_type": "code",
   "execution_count": null,
   "id": "fadc3f40",
   "metadata": {},
   "outputs": [],
   "source": [
    "spend['Date'] = pd.to_datetime(spend['Date'])\n",
    "spend_over_time = spend.groupby(spend['Date'].dt.to_period('M'))['Amount'].sum()\n",
    "spend_over_time.plot(kind='line', figsize=(12,5), title='Monthly Spend Trend')\n",
    "plt.ylabel('Total Spend (CAD)')\n",
    "plt.show()"
   ]
  }
 ],
 "metadata": {},
 "nbformat": 4,
 "nbformat_minor": 5
}
