# 📦 Import Libraries
import pandas as pd
import numpy as np

# 📂 Load Data
suppliers = pd.read_csv("data/suppliers.csv")
spend = pd.read_csv("data/spend.csv")
contracts = pd.read_csv("data/contracts.csv")

# 👀 Quick Look
print("Suppliers Table")
display(suppliers.head())

print("Spend Table")
display(spend.head())

print("Contracts Table")
display(contracts.head())

# -----------------------------------
# 1️⃣ Merge spend with suppliers
spend_suppliers = spend.merge(suppliers, on="Supplier_ID", how="left")

# Total spend by category
category_spend = spend_suppliers.groupby("Category")["Amount"].sum().sort_values(ascending=False)
print("\n💰 Total Spend by Category")
display(category_spend)

# Total spend by supplier
supplier_spend = spend_suppliers.groupby("Supplier_Name")["Amount"].sum().sort_values(ascending=False)
print("\n💰 Total Spend by Supplier")
display(supplier_spend)

# -----------------------------------
# 2️⃣ Identify Top 5 Suppliers
top5_suppliers = supplier_spend.head(5)
print("\n🏆 Top 5 Suppliers by Spend")
display(top5_suppliers)

# -----------------------------------
# 3️⃣ Potential Savings Estimation
# Assume consolidating suppliers in same category could save ~12% of spend
category_savings = category_spend * 0.12
print("\n💡 Potential Savings by Category (12%)")
display(category_savings)

# -----------------------------------
# 4️⃣ Summary Insights
print("\n📌 Summary Insights")
print(f"- Top 5 suppliers account for {round(top5_suppliers.sum()/spend['Amount'].sum()*100, 2)}% of total spend")
print(f"- Potential savings if consolidating categories: ~{round(category_savings.sum(), 2)} CAD")

# -----------------------------------
# 5️⃣ Optional: Spend Trend Over Time
spend['Date'] = pd.to_datetime(spend['Date'])
spend_over_time = spend.groupby(spend['Date'].dt.to_period("M"))['Amount'].sum()
print("\n📈 Spend Over Time")
display(spend_over_time)
